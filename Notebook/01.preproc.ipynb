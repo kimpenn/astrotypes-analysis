{
 "cells": [
  {
   "cell_type": "code",
   "execution_count": 1,
   "id": "b8c844c1-2b08-4631-b0ec-820faeaf1a37",
   "metadata": {},
   "outputs": [],
   "source": [
    "setwd('..')"
   ]
  },
  {
   "cell_type": "code",
   "execution_count": 2,
   "id": "f14b901b-5bb9-423b-a176-d0218890ad8f",
   "metadata": {},
   "outputs": [],
   "source": [
    "source(\"Source/functions.R\")"
   ]
  },
  {
   "cell_type": "code",
   "execution_count": 3,
   "id": "78a1367b-6691-42bc-989e-9bdcd3c44fa7",
   "metadata": {},
   "outputs": [],
   "source": [
    "library(\"data.table\")"
   ]
  },
  {
   "cell_type": "code",
   "execution_count": 4,
   "id": "2341bcec-4f33-4faf-92d1-9dcbdf262211",
   "metadata": {},
   "outputs": [
    {
     "data": {
      "text/html": [
       "<table class=\"dataframe\">\n",
       "<caption>A data.table: 6 × 7</caption>\n",
       "<thead>\n",
       "\t<tr><th scope=col>ExptID</th><th scope=col>SampleID</th><th scope=col>Type</th><th scope=col>IsM</th><th scope=col>IsN</th><th scope=col>IsS</th><th scope=col>IsT</th></tr>\n",
       "\t<tr><th scope=col>&lt;int&gt;</th><th scope=col>&lt;chr&gt;</th><th scope=col>&lt;chr&gt;</th><th scope=col>&lt;chr&gt;</th><th scope=col>&lt;chr&gt;</th><th scope=col>&lt;chr&gt;</th><th scope=col>&lt;chr&gt;</th></tr>\n",
       "</thead>\n",
       "<tbody>\n",
       "\t<tr><td>395</td><td>J150_3 </td><td>S</td><td>N</td><td>N</td><td>Y</td><td>N</td></tr>\n",
       "\t<tr><td>395</td><td>J151_5 </td><td>S</td><td>N</td><td>N</td><td>Y</td><td>N</td></tr>\n",
       "\t<tr><td>473</td><td>J153_6 </td><td>S</td><td>N</td><td>N</td><td>Y</td><td>N</td></tr>\n",
       "\t<tr><td>473</td><td>J154_8 </td><td>S</td><td>N</td><td>N</td><td>Y</td><td>N</td></tr>\n",
       "\t<tr><td>473</td><td>J155_9 </td><td>S</td><td>N</td><td>N</td><td>Y</td><td>N</td></tr>\n",
       "\t<tr><td>473</td><td>J156_16</td><td>S</td><td>N</td><td>N</td><td>Y</td><td>N</td></tr>\n",
       "</tbody>\n",
       "</table>\n"
      ],
      "text/latex": [
       "A data.table: 6 × 7\n",
       "\\begin{tabular}{lllllll}\n",
       " ExptID & SampleID & Type & IsM & IsN & IsS & IsT\\\\\n",
       " <int> & <chr> & <chr> & <chr> & <chr> & <chr> & <chr>\\\\\n",
       "\\hline\n",
       "\t 395 & J150\\_3  & S & N & N & Y & N\\\\\n",
       "\t 395 & J151\\_5  & S & N & N & Y & N\\\\\n",
       "\t 473 & J153\\_6  & S & N & N & Y & N\\\\\n",
       "\t 473 & J154\\_8  & S & N & N & Y & N\\\\\n",
       "\t 473 & J155\\_9  & S & N & N & Y & N\\\\\n",
       "\t 473 & J156\\_16 & S & N & N & Y & N\\\\\n",
       "\\end{tabular}\n"
      ],
      "text/markdown": [
       "\n",
       "A data.table: 6 × 7\n",
       "\n",
       "| ExptID &lt;int&gt; | SampleID &lt;chr&gt; | Type &lt;chr&gt; | IsM &lt;chr&gt; | IsN &lt;chr&gt; | IsS &lt;chr&gt; | IsT &lt;chr&gt; |\n",
       "|---|---|---|---|---|---|---|\n",
       "| 395 | J150_3  | S | N | N | Y | N |\n",
       "| 395 | J151_5  | S | N | N | Y | N |\n",
       "| 473 | J153_6  | S | N | N | Y | N |\n",
       "| 473 | J154_8  | S | N | N | Y | N |\n",
       "| 473 | J155_9  | S | N | N | Y | N |\n",
       "| 473 | J156_16 | S | N | N | Y | N |\n",
       "\n"
      ],
      "text/plain": [
       "  ExptID SampleID Type IsM IsN IsS IsT\n",
       "1 395    J150_3   S    N   N   Y   N  \n",
       "2 395    J151_5   S    N   N   Y   N  \n",
       "3 473    J153_6   S    N   N   Y   N  \n",
       "4 473    J154_8   S    N   N   Y   N  \n",
       "5 473    J155_9   S    N   N   Y   N  \n",
       "6 473    J156_16  S    N   N   Y   N  "
      ]
     },
     "metadata": {},
     "output_type": "display_data"
    }
   ],
   "source": [
    "SampleInfo <- fread(\"Data/SampleInfo.csv\")\n",
    "SampleInfo |> head()"
   ]
  },
  {
   "cell_type": "code",
   "execution_count": 5,
   "id": "a012605b-d046-45cf-9c55-6192cf8eb799",
   "metadata": {},
   "outputs": [
    {
     "name": "stderr",
     "output_type": "stream",
     "text": [
      "395 J150_3\n"
     ]
    },
    {
     "name": "stdout",
     "output_type": "stream",
     "text": [
      "[2025-02-10 11:33:25 -0500] Reading /lab/repo/E.395/analyzed/Sample_J150_3/verse/Sample_J150_3.verse.exon.cnts.txt ...\n",
      "[2025-02-10 11:33:25 -0500] Reading /lab/repo/E.395/analyzed/Sample_J150_3/verse/Sample_J150_3.verse.intron.cnts.txt ...\n",
      "[2025-02-10 11:33:25 -0500] Reading /lab/repo/E.395/analyzed/Sample_J150_3/verse/Sample_J150_3.verse.mito.cnts.txt ...\n"
     ]
    },
    {
     "name": "stderr",
     "output_type": "stream",
     "text": [
      "395 J151_5\n"
     ]
    },
    {
     "name": "stdout",
     "output_type": "stream",
     "text": [
      "[2025-02-10 11:33:25 -0500] Reading /lab/repo/E.395/analyzed/Sample_J151_5/verse/Sample_J151_5.verse.exon.cnts.txt ...\n",
      "[2025-02-10 11:33:25 -0500] Reading /lab/repo/E.395/analyzed/Sample_J151_5/verse/Sample_J151_5.verse.intron.cnts.txt ...\n",
      "[2025-02-10 11:33:26 -0500] Reading /lab/repo/E.395/analyzed/Sample_J151_5/verse/Sample_J151_5.verse.mito.cnts.txt ...\n"
     ]
    },
    {
     "name": "stderr",
     "output_type": "stream",
     "text": [
      "473 J153_6\n"
     ]
    },
    {
     "name": "stdout",
     "output_type": "stream",
     "text": [
      "[2025-02-10 11:33:26 -0500] Reading /lab/repo/E.473/analyzed/Sample_J153_6/verse/Sample_J153_6.verse.exon.cnts.txt ...\n",
      "[2025-02-10 11:33:26 -0500] Reading /lab/repo/E.473/analyzed/Sample_J153_6/verse/Sample_J153_6.verse.intron.cnts.txt ...\n",
      "[2025-02-10 11:33:26 -0500] Reading /lab/repo/E.473/analyzed/Sample_J153_6/verse/Sample_J153_6.verse.mito.cnts.txt ...\n"
     ]
    },
    {
     "name": "stderr",
     "output_type": "stream",
     "text": [
      "473 J154_8\n"
     ]
    },
    {
     "name": "stdout",
     "output_type": "stream",
     "text": [
      "[2025-02-10 11:33:26 -0500] Reading /lab/repo/E.473/analyzed/Sample_J154_8/verse/Sample_J154_8.verse.exon.cnts.txt ...\n",
      "[2025-02-10 11:33:26 -0500] Reading /lab/repo/E.473/analyzed/Sample_J154_8/verse/Sample_J154_8.verse.intron.cnts.txt ...\n",
      "[2025-02-10 11:33:26 -0500] Reading /lab/repo/E.473/analyzed/Sample_J154_8/verse/Sample_J154_8.verse.mito.cnts.txt ...\n"
     ]
    },
    {
     "name": "stderr",
     "output_type": "stream",
     "text": [
      "473 J155_9\n"
     ]
    },
    {
     "name": "stdout",
     "output_type": "stream",
     "text": [
      "[2025-02-10 11:33:26 -0500] Reading /lab/repo/E.473/analyzed/Sample_J155_9/verse/Sample_J155_9.verse.exon.cnts.txt ...\n",
      "[2025-02-10 11:33:26 -0500] Reading /lab/repo/E.473/analyzed/Sample_J155_9/verse/Sample_J155_9.verse.intron.cnts.txt ...\n",
      "[2025-02-10 11:33:26 -0500] Reading /lab/repo/E.473/analyzed/Sample_J155_9/verse/Sample_J155_9.verse.mito.cnts.txt ...\n"
     ]
    },
    {
     "name": "stderr",
     "output_type": "stream",
     "text": [
      "473 J156_16\n"
     ]
    },
    {
     "name": "stdout",
     "output_type": "stream",
     "text": [
      "[2025-02-10 11:33:26 -0500] Reading /lab/repo/E.473/analyzed/Sample_J156_16/verse/Sample_J156_16.verse.exon.cnts.txt ...\n",
      "[2025-02-10 11:33:26 -0500] Reading /lab/repo/E.473/analyzed/Sample_J156_16/verse/Sample_J156_16.verse.intron.cnts.txt ...\n",
      "[2025-02-10 11:33:26 -0500] Reading /lab/repo/E.473/analyzed/Sample_J156_16/verse/Sample_J156_16.verse.mito.cnts.txt ...\n"
     ]
    },
    {
     "name": "stderr",
     "output_type": "stream",
     "text": [
      "395 J161_9\n"
     ]
    },
    {
     "name": "stdout",
     "output_type": "stream",
     "text": [
      "[2025-02-10 11:33:26 -0500] Reading /lab/repo/E.395/analyzed/Sample_J161_9/verse/Sample_J161_9.verse.exon.cnts.txt ...\n",
      "[2025-02-10 11:33:27 -0500] Reading /lab/repo/E.395/analyzed/Sample_J161_9/verse/Sample_J161_9.verse.intron.cnts.txt ...\n",
      "[2025-02-10 11:33:27 -0500] Reading /lab/repo/E.395/analyzed/Sample_J161_9/verse/Sample_J161_9.verse.mito.cnts.txt ...\n"
     ]
    },
    {
     "name": "stderr",
     "output_type": "stream",
     "text": [
      "395 J162_16\n"
     ]
    },
    {
     "name": "stdout",
     "output_type": "stream",
     "text": [
      "[2025-02-10 11:33:27 -0500] Reading /lab/repo/E.395/analyzed/Sample_J162_16/verse/Sample_J162_16.verse.exon.cnts.txt ...\n",
      "[2025-02-10 11:33:27 -0500] Reading /lab/repo/E.395/analyzed/Sample_J162_16/verse/Sample_J162_16.verse.intron.cnts.txt ...\n",
      "[2025-02-10 11:33:27 -0500] Reading /lab/repo/E.395/analyzed/Sample_J162_16/verse/Sample_J162_16.verse.mito.cnts.txt ...\n"
     ]
    },
    {
     "name": "stderr",
     "output_type": "stream",
     "text": [
      "473 J163_18\n"
     ]
    },
    {
     "name": "stdout",
     "output_type": "stream",
     "text": [
      "[2025-02-10 11:33:27 -0500] Reading /lab/repo/E.473/analyzed/Sample_J163_18/verse/Sample_J163_18.verse.exon.cnts.txt ...\n",
      "[2025-02-10 11:33:27 -0500] Reading /lab/repo/E.473/analyzed/Sample_J163_18/verse/Sample_J163_18.verse.intron.cnts.txt ...\n",
      "[2025-02-10 11:33:27 -0500] Reading /lab/repo/E.473/analyzed/Sample_J163_18/verse/Sample_J163_18.verse.mito.cnts.txt ...\n"
     ]
    },
    {
     "name": "stderr",
     "output_type": "stream",
     "text": [
      "473 J164_19\n"
     ]
    },
    {
     "name": "stdout",
     "output_type": "stream",
     "text": [
      "[2025-02-10 11:33:27 -0500] Reading /lab/repo/E.473/analyzed/Sample_J164_19/verse/Sample_J164_19.verse.exon.cnts.txt ...\n",
      "[2025-02-10 11:33:27 -0500] Reading /lab/repo/E.473/analyzed/Sample_J164_19/verse/Sample_J164_19.verse.intron.cnts.txt ...\n",
      "[2025-02-10 11:33:27 -0500] Reading /lab/repo/E.473/analyzed/Sample_J164_19/verse/Sample_J164_19.verse.mito.cnts.txt ...\n"
     ]
    },
    {
     "name": "stderr",
     "output_type": "stream",
     "text": [
      "473 J165_23\n"
     ]
    },
    {
     "name": "stdout",
     "output_type": "stream",
     "text": [
      "[2025-02-10 11:33:27 -0500] Reading /lab/repo/E.473/analyzed/Sample_J165_23/verse/Sample_J165_23.verse.exon.cnts.txt ...\n",
      "[2025-02-10 11:33:27 -0500] Reading /lab/repo/E.473/analyzed/Sample_J165_23/verse/Sample_J165_23.verse.intron.cnts.txt ...\n",
      "[2025-02-10 11:33:27 -0500] Reading /lab/repo/E.473/analyzed/Sample_J165_23/verse/Sample_J165_23.verse.mito.cnts.txt ...\n"
     ]
    },
    {
     "name": "stderr",
     "output_type": "stream",
     "text": [
      "473 J166_25\n"
     ]
    },
    {
     "name": "stdout",
     "output_type": "stream",
     "text": [
      "[2025-02-10 11:33:27 -0500] Reading /lab/repo/E.473/analyzed/Sample_J166_25/verse/Sample_J166_25.verse.exon.cnts.txt ...\n",
      "[2025-02-10 11:33:28 -0500] Reading /lab/repo/E.473/analyzed/Sample_J166_25/verse/Sample_J166_25.verse.intron.cnts.txt ...\n",
      "[2025-02-10 11:33:28 -0500] Reading /lab/repo/E.473/analyzed/Sample_J166_25/verse/Sample_J166_25.verse.mito.cnts.txt ...\n"
     ]
    },
    {
     "name": "stderr",
     "output_type": "stream",
     "text": [
      "395 J172_23\n"
     ]
    },
    {
     "name": "stdout",
     "output_type": "stream",
     "text": [
      "[2025-02-10 11:33:28 -0500] Reading /lab/repo/E.395/analyzed/Sample_J172_23/verse/Sample_J172_23.verse.exon.cnts.txt ...\n",
      "[2025-02-10 11:33:28 -0500] Reading /lab/repo/E.395/analyzed/Sample_J172_23/verse/Sample_J172_23.verse.intron.cnts.txt ...\n",
      "[2025-02-10 11:33:28 -0500] Reading /lab/repo/E.395/analyzed/Sample_J172_23/verse/Sample_J172_23.verse.mito.cnts.txt ...\n"
     ]
    },
    {
     "name": "stderr",
     "output_type": "stream",
     "text": [
      "395 J173_25\n"
     ]
    },
    {
     "name": "stdout",
     "output_type": "stream",
     "text": [
      "[2025-02-10 11:33:28 -0500] Reading /lab/repo/E.395/analyzed/Sample_J173_25/verse/Sample_J173_25.verse.exon.cnts.txt ...\n",
      "[2025-02-10 11:33:28 -0500] Reading /lab/repo/E.395/analyzed/Sample_J173_25/verse/Sample_J173_25.verse.intron.cnts.txt ...\n",
      "[2025-02-10 11:33:28 -0500] Reading /lab/repo/E.395/analyzed/Sample_J173_25/verse/Sample_J173_25.verse.mito.cnts.txt ...\n"
     ]
    },
    {
     "name": "stderr",
     "output_type": "stream",
     "text": [
      "471 J174_13\n"
     ]
    },
    {
     "name": "stdout",
     "output_type": "stream",
     "text": [
      "[2025-02-10 11:33:28 -0500] Reading /lab/repo/E.471/analyzed/Sample_J174_13/verse/Sample_J174_13.verse.exon.cnts.txt ...\n",
      "[2025-02-10 11:33:28 -0500] Reading /lab/repo/E.471/analyzed/Sample_J174_13/verse/Sample_J174_13.verse.intron.cnts.txt ...\n",
      "[2025-02-10 11:33:28 -0500] Reading /lab/repo/E.471/analyzed/Sample_J174_13/verse/Sample_J174_13.verse.mito.cnts.txt ...\n"
     ]
    },
    {
     "name": "stderr",
     "output_type": "stream",
     "text": [
      "471 J175_18\n"
     ]
    },
    {
     "name": "stdout",
     "output_type": "stream",
     "text": [
      "[2025-02-10 11:33:28 -0500] Reading /lab/repo/E.471/analyzed/Sample_J175_18/verse/Sample_J175_18.verse.exon.cnts.txt ...\n",
      "[2025-02-10 11:33:28 -0500] Reading /lab/repo/E.471/analyzed/Sample_J175_18/verse/Sample_J175_18.verse.intron.cnts.txt ...\n",
      "[2025-02-10 11:33:29 -0500] Reading /lab/repo/E.471/analyzed/Sample_J175_18/verse/Sample_J175_18.verse.mito.cnts.txt ...\n"
     ]
    },
    {
     "name": "stderr",
     "output_type": "stream",
     "text": [
      "471 J176_25\n"
     ]
    },
    {
     "name": "stdout",
     "output_type": "stream",
     "text": [
      "[2025-02-10 11:33:29 -0500] Reading /lab/repo/E.471/analyzed/Sample_J176_25/verse/Sample_J176_25.verse.exon.cnts.txt ...\n",
      "[2025-02-10 11:33:29 -0500] Reading /lab/repo/E.471/analyzed/Sample_J176_25/verse/Sample_J176_25.verse.intron.cnts.txt ...\n",
      "[2025-02-10 11:33:29 -0500] Reading /lab/repo/E.471/analyzed/Sample_J176_25/verse/Sample_J176_25.verse.mito.cnts.txt ...\n"
     ]
    },
    {
     "name": "stderr",
     "output_type": "stream",
     "text": [
      "471 J182_2\n"
     ]
    },
    {
     "name": "stdout",
     "output_type": "stream",
     "text": [
      "[2025-02-10 11:33:29 -0500] Reading /lab/repo/E.471/analyzed/Sample_J182_2/verse/Sample_J182_2.verse.exon.cnts.txt ...\n",
      "[2025-02-10 11:33:29 -0500] Reading /lab/repo/E.471/analyzed/Sample_J182_2/verse/Sample_J182_2.verse.intron.cnts.txt ...\n",
      "[2025-02-10 11:33:29 -0500] Reading /lab/repo/E.471/analyzed/Sample_J182_2/verse/Sample_J182_2.verse.mito.cnts.txt ...\n"
     ]
    },
    {
     "name": "stderr",
     "output_type": "stream",
     "text": [
      "473 J183_1\n"
     ]
    },
    {
     "name": "stdout",
     "output_type": "stream",
     "text": [
      "[2025-02-10 11:33:29 -0500] Reading /lab/repo/E.473/analyzed/Sample_J183_1/verse/Sample_J183_1.verse.exon.cnts.txt ...\n",
      "[2025-02-10 11:33:29 -0500] Reading /lab/repo/E.473/analyzed/Sample_J183_1/verse/Sample_J183_1.verse.intron.cnts.txt ...\n",
      "[2025-02-10 11:33:29 -0500] Reading /lab/repo/E.473/analyzed/Sample_J183_1/verse/Sample_J183_1.verse.mito.cnts.txt ...\n"
     ]
    },
    {
     "name": "stderr",
     "output_type": "stream",
     "text": [
      "471 J185_4\n"
     ]
    },
    {
     "name": "stdout",
     "output_type": "stream",
     "text": [
      "[2025-02-10 11:33:29 -0500] Reading /lab/repo/E.471/analyzed/Sample_J185_4/verse/Sample_J185_4.verse.exon.cnts.txt ...\n",
      "[2025-02-10 11:33:29 -0500] Reading /lab/repo/E.471/analyzed/Sample_J185_4/verse/Sample_J185_4.verse.intron.cnts.txt ...\n",
      "[2025-02-10 11:33:29 -0500] Reading /lab/repo/E.471/analyzed/Sample_J185_4/verse/Sample_J185_4.verse.mito.cnts.txt ...\n"
     ]
    },
    {
     "name": "stderr",
     "output_type": "stream",
     "text": [
      "471 J186_5\n"
     ]
    },
    {
     "name": "stdout",
     "output_type": "stream",
     "text": [
      "[2025-02-10 11:33:29 -0500] Reading /lab/repo/E.471/analyzed/Sample_J186_5/verse/Sample_J186_5.verse.exon.cnts.txt ...\n",
      "[2025-02-10 11:33:29 -0500] Reading /lab/repo/E.471/analyzed/Sample_J186_5/verse/Sample_J186_5.verse.intron.cnts.txt ...\n",
      "[2025-02-10 11:33:30 -0500] Reading /lab/repo/E.471/analyzed/Sample_J186_5/verse/Sample_J186_5.verse.mito.cnts.txt ...\n"
     ]
    },
    {
     "name": "stderr",
     "output_type": "stream",
     "text": [
      "471 J187_6\n"
     ]
    },
    {
     "name": "stdout",
     "output_type": "stream",
     "text": [
      "[2025-02-10 11:33:30 -0500] Reading /lab/repo/E.471/analyzed/Sample_J187_6/verse/Sample_J187_6.verse.exon.cnts.txt ...\n",
      "[2025-02-10 11:33:30 -0500] Reading /lab/repo/E.471/analyzed/Sample_J187_6/verse/Sample_J187_6.verse.intron.cnts.txt ...\n",
      "[2025-02-10 11:33:30 -0500] Reading /lab/repo/E.471/analyzed/Sample_J187_6/verse/Sample_J187_6.verse.mito.cnts.txt ...\n"
     ]
    }
   ],
   "source": [
    "cnts_per_feature <- with(SampleInfo, \n",
    "    mapply(function(exptID, sampleID) {\n",
    "        message(exptID, \" \", sampleID)\n",
    "        Repo$getVERSEcounts(\n",
    "            exptName = paste0(\"E.\", exptID), \n",
    "            sampleID = sampleID, \n",
    "            features = c(\"exon\", \"intron\", \"mito\")\n",
    "            )\n",
    "        }, \n",
    "        exptID = ExptID, \n",
    "        sampleID = SampleID,\n",
    "        SIMPLIFY = FALSE)\n",
    "    )"
   ]
  },
  {
   "cell_type": "code",
   "execution_count": 6,
   "id": "524f1ae7-a66c-47a0-8c48-5f57ab607a65",
   "metadata": {},
   "outputs": [],
   "source": [
    "geneIDs_per_feature <- lapply(cnts_per_feature[[1]], rownames)\n",
    "geneIDs_per_feature$exon <- grep(\"^spikeIn\\\\.\", geneIDs_per_feature$exon, value = TRUE, invert = TRUE)\n",
    "\n",
    "cnts_per_feature <- sapply(c(\"exon\", \"intron\", \"mito\"), function(x) {\n",
    "    y <- geneIDs_per_feature[[x]]\n",
    "    z <- sapply(cnts_per_feature, function(cnts) as.matrix(cnts[[x]])[y, 1])\n",
    "    colnames(z) <- SampleInfo$SampleID\n",
    "    rownames(z) <- y\n",
    "    z\n",
    "}, simplify = FALSE)"
   ]
  },
  {
   "cell_type": "code",
   "execution_count": 7,
   "id": "856100cd-e6ac-44bc-8719-c7f9fe9cd905",
   "metadata": {},
   "outputs": [
    {
     "name": "stdout",
     "output_type": "stream",
     "text": [
      "List of 3\n",
      " $ exon  : int [1:23453, 1:22] 0 151 300 0 0 2262 6402 349 4 0 ...\n",
      "  ..- attr(*, \"dimnames\")=List of 2\n",
      "  .. ..$ : chr [1:23453] \"0610005C13Rik\" \"0610007N19Rik\" \"0610007P14Rik\" \"0610008F07Rik\" ...\n",
      "  .. ..$ : chr [1:22] \"J150_3\" \"J151_5\" \"J153_6\" \"J154_8\" ...\n",
      " $ intron: int [1:20422, 1:22] 0 0 0 9 0 0 0 0 2 0 ...\n",
      "  ..- attr(*, \"dimnames\")=List of 2\n",
      "  .. ..$ : chr [1:20422] \"0610005C13Rik\" \"0610007N19Rik\" \"0610007P14Rik\" \"0610008F07Rik\" ...\n",
      "  .. ..$ : chr [1:22] \"J150_3\" \"J151_5\" \"J153_6\" \"J154_8\" ...\n",
      " $ mito  : int [1:37, 1:22] 78 8 14965 136 228 79525 58165 188233 4 1 ...\n",
      "  ..- attr(*, \"dimnames\")=List of 2\n",
      "  .. ..$ : chr [1:37] \"mt-Atp6\" \"mt-Atp8\" \"mt-Co1\" \"mt-Co2\" ...\n",
      "  .. ..$ : chr [1:22] \"J150_3\" \"J151_5\" \"J153_6\" \"J154_8\" ...\n"
     ]
    }
   ],
   "source": [
    "str(cnts_per_feature)"
   ]
  },
  {
   "cell_type": "code",
   "execution_count": 8,
   "id": "16f88d37-592c-4145-8bb8-b543264c33e2",
   "metadata": {},
   "outputs": [],
   "source": [
    "for (f in c(\"exon\", \"intron\", \"mito\")) {\n",
    "    write.csv(as.data.frame(cnts_per_feature[[f]]), file = gzfile(file.path(\"Data\", sprintf(\"cnts_%s.csv.gz\", f))))\n",
    "}"
   ]
  },
  {
   "cell_type": "code",
   "execution_count": 9,
   "id": "96be37ec-b8eb-4aba-8879-73c37bb92f51",
   "metadata": {},
   "outputs": [
    {
     "data": {
      "text/plain": [
       "R version 4.4.0 (2024-04-24)\n",
       "Platform: x86_64-pc-linux-gnu\n",
       "Running under: openSUSE Tumbleweed\n",
       "\n",
       "Matrix products: default\n",
       "BLAS:   /home/lenovo/Applications/R/4.4.0/lib64/R/lib/libRblas.so \n",
       "LAPACK: /home/lenovo/Applications/R/4.4.0/lib64/R/lib/libRlapack.so;  LAPACK version 3.12.0\n",
       "\n",
       "locale:\n",
       " [1] LC_CTYPE=en_US.UTF-8       LC_NUMERIC=C              \n",
       " [3] LC_TIME=en_US.UTF-8        LC_COLLATE=en_US.UTF-8    \n",
       " [5] LC_MONETARY=en_US.UTF-8    LC_MESSAGES=en_US.UTF-8   \n",
       " [7] LC_PAPER=en_US.UTF-8       LC_NAME=C                 \n",
       " [9] LC_ADDRESS=C               LC_TELEPHONE=C            \n",
       "[11] LC_MEASUREMENT=en_US.UTF-8 LC_IDENTIFICATION=C       \n",
       "\n",
       "time zone: America/New_York\n",
       "tzcode source: system (glibc)\n",
       "\n",
       "attached base packages:\n",
       "[1] stats     graphics  grDevices utils     datasets  methods   base     \n",
       "\n",
       "other attached packages:\n",
       "[1] data.table_1.16.2\n",
       "\n",
       "loaded via a namespace (and not attached):\n",
       " [1] digest_0.6.37       IRdisplay_1.1       base64enc_0.1-3    \n",
       " [4] fastmap_1.2.0       glue_1.8.0          htmltools_0.5.8.1  \n",
       " [7] repr_1.1.7          lifecycle_1.0.4     cli_3.6.3          \n",
       "[10] vctrs_0.6.5         pbdZMQ_0.3-13       compiler_4.4.0     \n",
       "[13] tools_4.4.0         evaluate_1.0.1      pillar_1.10.1      \n",
       "[16] rlang_1.1.5         jsonlite_1.8.9      crayon_1.5.3       \n",
       "[19] IRkernel_1.3.2.9000 uuid_1.2-1         "
      ]
     },
     "metadata": {},
     "output_type": "display_data"
    }
   ],
   "source": [
    "sessionInfo()"
   ]
  }
 ],
 "metadata": {
  "kernelspec": {
   "display_name": "R",
   "language": "R",
   "name": "ir"
  },
  "language_info": {
   "codemirror_mode": "r",
   "file_extension": ".r",
   "mimetype": "text/x-r-source",
   "name": "R",
   "pygments_lexer": "r",
   "version": "4.4.0"
  }
 },
 "nbformat": 4,
 "nbformat_minor": 5
}
